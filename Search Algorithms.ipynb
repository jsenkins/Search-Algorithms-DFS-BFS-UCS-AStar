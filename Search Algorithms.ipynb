{
  "nbformat": 4,
  "nbformat_minor": 0,
  "metadata": {
    "colab": {
      "provenance": []
    },
    "kernelspec": {
      "name": "python3",
      "display_name": "Python 3"
    },
    "language_info": {
      "name": "python"
    }
  },
  "cells": [
    {
      "cell_type": "code",
      "execution_count": null,
      "metadata": {
        "colab": {
          "base_uri": "https://localhost:8080/"
        },
        "id": "z2MFljiGnO14",
        "outputId": "c0505f24-0a46-4bf3-ce7f-70f82640f9fe"
      },
      "outputs": [
        {
          "output_type": "execute_result",
          "data": {
            "text/plain": [
              "[[1, 0, 0, 0, 1, 0, 0],\n",
              " [1, 1, 0, 0, 0, 1, 1],\n",
              " [0, 1, 0, 1, 0, 0, 0],\n",
              " [1, 1, 0, 1, 1, 0, 1],\n",
              " [0, 1, 0, 1, 0, 0, 0],\n",
              " [0, 1, 0, 1, 0, 0, 0]]"
            ]
          },
          "metadata": {},
          "execution_count": 1
        }
      ],
      "source": [
        "cube=[\n",
        "      [1,0,0,0,1,0,0],\n",
        "      [1,1,0,0,0,1,1],\n",
        "      [0,1,0,1,0,0,0],\n",
        "      [1,1,0,1,1,0,1],\n",
        "      [0,1,0,1,0,0,0],\n",
        "      [0,1,0,1,0,0,0]\n",
        "]\n",
        "cube"
      ]
    },
    {
      "cell_type": "code",
      "source": [
        "import numpy as np"
      ],
      "metadata": {
        "id": "tl0uf3UEslz-"
      },
      "execution_count": null,
      "outputs": []
    },
    {
      "cell_type": "code",
      "source": [
        "cube = np.loadtxt(\"cube.txt\", dtype='str')\n",
        "for i in cube:\n",
        "  print(i)"
      ],
      "metadata": {
        "colab": {
          "base_uri": "https://localhost:8080/"
        },
        "id": "gH0L8PU7sZzA",
        "outputId": "65ac8260-ebad-45ce-83ea-ea69f6683e1b"
      },
      "execution_count": null,
      "outputs": [
        {
          "output_type": "stream",
          "name": "stdout",
          "text": [
            "1,0,0,0,1,0,0\n",
            "1,1,0,0,0,1,1\n",
            "0,1,0,1,0,0,0\n",
            "1,1,0,1,1,0,1\n",
            "0,1,0,1,0,0,0\n",
            "0,1,1,1,0,1,1\n",
            "0,0,0,0,0,0,0\n"
          ]
        }
      ]
    },
    {
      "cell_type": "code",
      "source": [
        "cube=[]\n",
        "with open(\"cube.txt\", 'r') as f:\n",
        "        for line in f.readlines():\n",
        "            cube.append(line.strip('\\n').split(','))\n",
        "\n",
        "cube"
      ],
      "metadata": {
        "colab": {
          "base_uri": "https://localhost:8080/"
        },
        "id": "wHDgxmoDCmW4",
        "outputId": "22acbc20-8e46-49bb-c95e-ec9ae4eaf401"
      },
      "execution_count": null,
      "outputs": [
        {
          "output_type": "execute_result",
          "data": {
            "text/plain": [
              "[['1', '0', '0', '0', '1', '0', '0'],\n",
              " ['1', '1', '0', '0', '0', '1', '1'],\n",
              " ['0', '1', '0', '1', '0', '0', '0'],\n",
              " ['1', '1', '0', '1', '1', '0', '1'],\n",
              " ['0', '1', '0', '1', '0', '0', '0'],\n",
              " ['0', '1', '1', '1', '0', '1', '1'],\n",
              " ['0', '0', '0', '0', '0', '0', '0']]"
            ]
          },
          "metadata": {},
          "execution_count": 10
        }
      ]
    },
    {
      "cell_type": "markdown",
      "source": [
        "###DFS"
      ],
      "metadata": {
        "id": "atF52vuBvVSC"
      }
    },
    {
      "cell_type": "code",
      "source": [
        "def makegraph(grid):\n",
        "    rows, cols = len(grid), len(grid[0])\n",
        "    graph = {}\n",
        "    for i in range(rows):\n",
        "        for j in range(cols):\n",
        "            if grid[i][j] == '0':\n",
        "                graph[(i, j)] = set()\n",
        "                if i > 0 and grid[i - 1][j] == '0':\n",
        "                    graph[(i, j)].add((i - 1, j))\n",
        "                if i < rows - 1 and grid[i + 1][j] == '0':\n",
        "                    graph[(i, j)].add((i + 1, j))\n",
        "                if j > 0 and grid[i][j - 1] == '0':\n",
        "                    graph[(i, j)].add((i, j - 1))\n",
        "                if j < cols - 1 and grid[i][j + 1] == '0':\n",
        "                    graph[(i, j)].add((i, j + 1))\n",
        "    return graph\n",
        "\n",
        "def DFS(graph, start, end, visited=None, path=None):\n",
        "    if visited is None:\n",
        "        visited = set()\n",
        "    if path is None:\n",
        "        path = []\n",
        "    visited.add(start)\n",
        "    path.append(start)\n",
        "    if start == end:\n",
        "        return path\n",
        "    for next_node in graph[start] - visited:\n",
        "        new_path = DFS(graph, next_node, end, visited, path.copy())\n",
        "        if new_path:\n",
        "            return new_path\n",
        "    return None\n",
        "\n",
        "def useDFS(grid, start, end):\n",
        "    graph = makegraph(grid)\n",
        "    path = DFS(graph, start, end)\n",
        "    return path\n",
        "\n",
        "\n",
        "start = (0, 1)\n",
        "end = (6, 6)\n",
        "path = useDFS(cube, start, end)\n",
        "if path:\n",
        "    print(\"found path\")\n",
        "    for i in path:\n",
        "        print(i)\n",
        "else:\n",
        "    print(\"no path from the source to destination\")\n"
      ],
      "metadata": {
        "colab": {
          "base_uri": "https://localhost:8080/"
        },
        "id": "OAUNkDEoH9FP",
        "outputId": "3e3edfe3-acae-4a2b-c517-575da8b1db28"
      },
      "execution_count": null,
      "outputs": [
        {
          "output_type": "stream",
          "name": "stdout",
          "text": [
            "found path\n",
            "(0, 1)\n",
            "(0, 2)\n",
            "(1, 2)\n",
            "(1, 3)\n",
            "(1, 4)\n",
            "(2, 4)\n",
            "(2, 5)\n",
            "(3, 5)\n",
            "(4, 5)\n",
            "(4, 4)\n",
            "(5, 4)\n",
            "(6, 4)\n",
            "(6, 5)\n",
            "(6, 6)\n"
          ]
        }
      ]
    },
    {
      "cell_type": "markdown",
      "source": [
        "###BFS"
      ],
      "metadata": {
        "id": "iKOwv2CCMkmw"
      }
    },
    {
      "cell_type": "code",
      "source": [
        "from collections import deque\n",
        "\n",
        "def makegraph(grid):\n",
        "    rows, cols = len(grid), len(grid[0])\n",
        "    graph = {}\n",
        "    for i in range(rows):\n",
        "        for j in range(cols):\n",
        "            if grid[i][j] == '0':\n",
        "                graph[(i, j)] = set()\n",
        "                if i > 0 and grid[i - 1][j] == '0':\n",
        "                    graph[(i, j)].add((i - 1, j))\n",
        "                if i < rows - 1 and grid[i + 1][j] == '0':\n",
        "                    graph[(i, j)].add((i + 1, j))\n",
        "                if j > 0 and grid[i][j - 1] == '0':\n",
        "                    graph[(i, j)].add((i, j - 1))\n",
        "                if j < cols - 1 and grid[i][j + 1] == '0':\n",
        "                    graph[(i, j)].add((i, j + 1))\n",
        "    return graph\n",
        "\n",
        "def useBFS(grid, start, end):\n",
        "    graph = makegraph(grid)\n",
        "    queue = deque([(start, [start])])\n",
        "    visited = set()\n",
        "    while queue:\n",
        "        current, path = queue.popleft()\n",
        "        if current == end:\n",
        "            return path\n",
        "        visited.add(current)\n",
        "        for neighbor in graph[current] - visited:\n",
        "            queue.append((neighbor, path + [neighbor]))\n",
        "    return None\n",
        "\n",
        "start = (0, 1)\n",
        "end = (6, 6)\n",
        "path = useBFS(cube, start, end)\n",
        "if path:\n",
        "    print(\"path found:\")\n",
        "    for i in path:\n",
        "        print(i)\n",
        "else:\n",
        "    print(\"no path from the source to destination\")\n"
      ],
      "metadata": {
        "colab": {
          "base_uri": "https://localhost:8080/"
        },
        "id": "PKmu8wWYMl4U",
        "outputId": "45d3fa05-2084-42ce-9a36-a1539b5dcca5"
      },
      "execution_count": null,
      "outputs": [
        {
          "output_type": "stream",
          "name": "stdout",
          "text": [
            "path found:\n",
            "(0, 1)\n",
            "(0, 2)\n",
            "(1, 2)\n",
            "(1, 3)\n",
            "(1, 4)\n",
            "(2, 4)\n",
            "(2, 5)\n",
            "(3, 5)\n",
            "(4, 5)\n",
            "(4, 4)\n",
            "(5, 4)\n",
            "(6, 4)\n",
            "(6, 5)\n",
            "(6, 6)\n"
          ]
        }
      ]
    },
    {
      "cell_type": "markdown",
      "source": [
        "###UCS\n"
      ],
      "metadata": {
        "id": "IEIOQlGRNHPo"
      }
    },
    {
      "cell_type": "code",
      "source": [
        "from queue import PriorityQueue\n",
        "\n",
        "def makegraph(grid):\n",
        "    rows, cols = len(grid), len(grid[0])\n",
        "    graph = {}\n",
        "    for i in range(rows):\n",
        "        for j in range(cols):\n",
        "            if grid[i][j] == '0':\n",
        "                graph[(i, j)] = set()\n",
        "                if i > 0 and grid[i - 1][j] == '0':\n",
        "                    graph[(i, j)].add((i - 1, j))\n",
        "                if i < rows - 1 and grid[i + 1][j] == '0':\n",
        "                    graph[(i, j)].add((i + 1, j))\n",
        "                if j > 0 and grid[i][j - 1] == '0':\n",
        "                    graph[(i, j)].add((i, j - 1))\n",
        "                if j < cols - 1 and grid[i][j + 1] == '0':\n",
        "                    graph[(i, j)].add((i, j + 1))\n",
        "    return graph\n",
        "\n",
        "def useUCS(grid, start, end):\n",
        "    graph = makegraph(grid)\n",
        "    queue = PriorityQueue()\n",
        "    queue.put((0, [start]))\n",
        "    visited = set()\n",
        "    while not queue.empty():\n",
        "        cost, path = queue.get()\n",
        "        current = path[-1]\n",
        "        if current == end:\n",
        "            return path\n",
        "        if current not in visited:\n",
        "            visited.add(current)\n",
        "            for neighbor in graph[current]:\n",
        "                if neighbor not in visited:\n",
        "                    new_cost = cost + 1\n",
        "                    queue.put((new_cost, path + [neighbor]))\n",
        "    return None\n",
        "\n",
        "start = (0, 1)\n",
        "end = (6, 6)\n",
        "path = useUCS(cube, start, end)\n",
        "if path:\n",
        "    print(\"path found:\")\n",
        "    for i in path:\n",
        "        print(i)\n",
        "else:\n",
        "    print(\"no path from the source to destination\")\n"
      ],
      "metadata": {
        "colab": {
          "base_uri": "https://localhost:8080/"
        },
        "id": "oGbDu-PxNITM",
        "outputId": "d30a474c-f713-4e50-9476-3dd5ea3e7d8e"
      },
      "execution_count": null,
      "outputs": [
        {
          "output_type": "stream",
          "name": "stdout",
          "text": [
            "path found:\n",
            "(0, 1)\n",
            "(0, 2)\n",
            "(0, 3)\n",
            "(1, 3)\n",
            "(1, 4)\n",
            "(2, 4)\n",
            "(2, 5)\n",
            "(3, 5)\n",
            "(4, 5)\n",
            "(4, 4)\n",
            "(5, 4)\n",
            "(6, 4)\n",
            "(6, 5)\n",
            "(6, 6)\n"
          ]
        }
      ]
    },
    {
      "cell_type": "markdown",
      "source": [
        "###A*\n",
        "\n"
      ],
      "metadata": {
        "id": "PVvipFQEvSZ9"
      }
    },
    {
      "cell_type": "code",
      "source": [
        "graph = np.loadtxt(\"aStarCube.txt\", dtype='str')\n",
        "for i in graph:\n",
        "  print(i)"
      ],
      "metadata": {
        "colab": {
          "base_uri": "https://localhost:8080/"
        },
        "id": "DJjITcngtWbm",
        "outputId": "42f0804c-09ce-4a4e-8275-d40d0d57ecff"
      },
      "execution_count": null,
      "outputs": [
        {
          "output_type": "stream",
          "name": "stdout",
          "text": [
            "1,0,0,0,1,0,0\n",
            "1,1,0,0,0,1,1\n",
            "0,10,1,2,0,0\n",
            "1,1,2,1,1,2,1\n",
            "0,1,0,1,0,2,0\n",
            "0,1,1,1,0,1,1\n",
            "0,0,0,0,0,0,0\n"
          ]
        }
      ]
    },
    {
      "cell_type": "code",
      "source": [
        "\n",
        "graph=[]\n",
        "with open(\"A*cube.txt\", 'r') as f:\n",
        "        for line in f.readlines():\n",
        "            graph.append(line.strip('\\n').split(','))\n",
        "\n",
        "graph"
      ],
      "metadata": {
        "colab": {
          "base_uri": "https://localhost:8080/"
        },
        "id": "A17tGcSmAVU5",
        "outputId": "1d614374-fd2e-4acf-dda5-ff8125342e00"
      },
      "execution_count": null,
      "outputs": [
        {
          "output_type": "execute_result",
          "data": {
            "text/plain": [
              "[['1', '0', '0', '0', '1', '0', '0'],\n",
              " ['1', '1', '0', '0', '0', '1', '1'],\n",
              " ['0', '1', '0', '1', '2', '0', '0'],\n",
              " ['1', '1', '2', '1', '1', '2', '1'],\n",
              " ['0', '1', '0', '1', '0', '2', '0'],\n",
              " ['0', '1', '1', '1', '0', '1', '1'],\n",
              " ['0', '0', '0', '0', '0', '0', '0']]"
            ]
          },
          "metadata": {},
          "execution_count": 61
        }
      ]
    },
    {
      "cell_type": "code",
      "source": [
        "testtt=int(graph[6][6])\n",
        "testtt"
      ],
      "metadata": {
        "colab": {
          "base_uri": "https://localhost:8080/"
        },
        "id": "P27d0TzbDdrT",
        "outputId": "6e8cd7f9-96fd-4c36-a981-6a5b64f714ad"
      },
      "execution_count": null,
      "outputs": [
        {
          "output_type": "execute_result",
          "data": {
            "text/plain": [
              "0"
            ]
          },
          "metadata": {},
          "execution_count": 78
        }
      ]
    },
    {
      "cell_type": "code",
      "source": [
        "import heapq\n",
        "\n",
        "class Cell:\n",
        "\tdef __init__(self):\n",
        "\t\tself.parent_i = 0\n",
        "\t\tself.parent_j = 0\n",
        "\t\tself.f = float('inf')\n",
        "\t\tself.g = float('inf')\n",
        "\t\tself.h = 0\n",
        "\n",
        "ROW = 7\n",
        "COL = 7\n",
        "\n",
        "def checkmove(row, col):\n",
        "\treturn (row >= 0) and (row < ROW) and (col >= 0) and (col < COL)\n",
        "\n",
        "def checkblock(grid, row, col):\n",
        "  if grid[row][col]=='0':\n",
        "    return True\n",
        "  elif grid[row][col]=='2':\n",
        "    return True\n",
        "  else:\n",
        "    return False\n",
        "\n",
        "def checkdestination(row, col, dest):\n",
        "\treturn row == dest[0] and col == dest[1]\n",
        "\n",
        "def costt(grid,row, col, dest):\n",
        "\n",
        "  cost=int(grid[row][col])\n",
        "  return cost\n",
        "\n",
        "def pathing(node, dest):\n",
        "\tprint(\"path to dest \")\n",
        "\tpath = []\n",
        "\trow = dest[0]\n",
        "\tcol = dest[1]\n",
        "\n",
        "\twhile not (node[row][col].parent_i == row and node[row][col].parent_j == col):\n",
        "\t\tpath.append((row, col))\n",
        "\t\ttemp_row = node[row][col].parent_i\n",
        "\t\ttemp_col = node[row][col].parent_j\n",
        "\t\trow = temp_row\n",
        "\t\tcol = temp_col\n",
        "\n",
        "\tpath.append((row, col))\n",
        "\tpath.reverse()\n",
        "\n",
        "\tfor i in path:\n",
        "\t\tprint( i, end=\" \")\n",
        "\tprint()\n",
        "\n",
        "def a_star_search(grid, src, dest):\n",
        "\n",
        "    if not checkmove(src[0], src[1]) :\n",
        "      print(\"Source or destination is invalid\")\n",
        "      return\n",
        "    if not checkmove(dest[0],dest[1]):\n",
        "      print(\"your destination doesnt exist\")\n",
        "      return\n",
        "\n",
        "    if not checkblock(grid, 6, 6):\n",
        "      print(\"blocked\")\n",
        "      return\n",
        "\n",
        "    if checkdestination(src[0], src[1], dest):\n",
        "      print(\"We are already at the destination\")\n",
        "      return\n",
        "\n",
        "    closed_list = [[False for _ in range(COL)] for _ in range(ROW)]\n",
        "    node = [[Cell() for _ in range(COL)] for _ in range(ROW)]\n",
        "\n",
        "    i = src[0]\n",
        "    j = src[1]\n",
        "    node[i][j].f = 0\n",
        "    node[i][j].g = 0\n",
        "    node[i][j].h = 0\n",
        "    node[i][j].parent_i = i\n",
        "    node[i][j].parent_j = j\n",
        "\n",
        "    open_list = []\n",
        "    heapq.heappush(open_list, (0.0, i, j))\n",
        "\n",
        "    found_dest = False\n",
        "\n",
        "    while len(open_list) > 0:\n",
        "      p = heapq.heappop(open_list)\n",
        "\n",
        "      i = p[1]\n",
        "      j = p[2]\n",
        "      closed_list[i][j] = True\n",
        "\n",
        "      directions = [(0, 1), (0, -1), (1, 0), (-1, 0), (1, 1), (1, -1), (-1, 1), (-1, -1)]\n",
        "      for dir in directions:\n",
        "        new_i = i + dir[0]\n",
        "        new_j = j + dir[1]\n",
        "\n",
        "        if checkmove(new_i, new_j) and checkblock(grid, new_i, new_j) and not closed_list[new_i][new_j]:\n",
        "          if checkdestination(new_i, new_j, dest):\n",
        "            node[new_i][new_j].parent_i = i\n",
        "            node[new_i][new_j].parent_j = j\n",
        "            print(\"youve reached\")\n",
        "            pathing(node, dest)\n",
        "            found_dest = True\n",
        "            return\n",
        "          else:\n",
        "            g_new = node[i][j].g + 1.0\n",
        "            h_new = costt(grid,new_i, new_j, dest)\n",
        "            f_new = g_new + h_new\n",
        "\n",
        "            if node[new_i][new_j].f == float('inf') or node[new_i][new_j].f > f_new:\n",
        "              heapq.heappush(open_list, (f_new, new_i, new_j))\n",
        "              node[new_i][new_j].f = f_new\n",
        "              node[new_i][new_j].g = g_new\n",
        "              node[new_i][new_j].h = h_new\n",
        "              node[new_i][new_j].parent_i = i\n",
        "              node[new_i][new_j].parent_j = j\n",
        "\n",
        "    if not found_dest:\n",
        "      print(\"Failed to find the destination cell\")\n",
        "\n",
        "\n",
        "grid=graph\n",
        "\n",
        "src = [0, 1]\n",
        "dest = [6, 6]\n",
        "\n",
        "a_star_search(grid, src, dest)\n"
      ],
      "metadata": {
        "colab": {
          "base_uri": "https://localhost:8080/"
        },
        "id": "Dubla7go6hWo",
        "outputId": "0d11c62b-7162-4bcf-c560-ed64b0d01a54"
      },
      "execution_count": null,
      "outputs": [
        {
          "output_type": "stream",
          "name": "stdout",
          "text": [
            "youve reached\n",
            "path to dest \n",
            "(0, 1) (0, 2) (1, 3) (2, 4) (3, 5) (4, 4) (5, 4) (6, 5) (6, 6) \n"
          ]
        }
      ]
    },
    {
      "cell_type": "code",
      "source": [
        "def test(graph):\n",
        "  if graph[6][6]=='0':\n",
        "    return True\n",
        "\n",
        "\n",
        "\n",
        "if  test(graph):\n",
        "  print(\"Ffsds\")"
      ],
      "metadata": {
        "colab": {
          "base_uri": "https://localhost:8080/"
        },
        "id": "w7nhtqImAj5c",
        "outputId": "6797e180-359a-4714-c8e1-a1ecea9f9d1c"
      },
      "execution_count": null,
      "outputs": [
        {
          "output_type": "stream",
          "name": "stdout",
          "text": [
            "Ffsds\n"
          ]
        }
      ]
    }
  ]
}